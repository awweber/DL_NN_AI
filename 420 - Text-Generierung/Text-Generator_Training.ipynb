{
 "cells": [
  {
   "cell_type": "markdown",
   "metadata": {},
   "source": [
    "# Projekt -  Text generieren (buchstabenweise) mit Hilfe eines LSTM-Modells\n",
    "\n",
    "Als Trainingsdatensatz wird das Buch \"Die Verwandlung\" von F. Kafka verwendet"
   ]
  },
  {
   "cell_type": "code",
   "execution_count": 19,
   "metadata": {},
   "outputs": [],
   "source": [
    "import numpy as np\n",
    "import pickle"
   ]
  },
  {
   "cell_type": "markdown",
   "metadata": {},
   "source": [
    "## Einlesen des Textes(Datensatzes)\n",
    "\n",
    "Zeilen 60-1952\n"
   ]
  },
  {
   "cell_type": "code",
   "execution_count": 20,
   "metadata": {},
   "outputs": [],
   "source": [
    "# Read the text file\n",
    "with open(\"verwandlung.txt\", \"r\", encoding=\"utf-8\") as file:\n",
    "    contents = file.read()\n",
    "\n",
    "# join with newline to keep paragraph structure, only keep lines 60 to 1952\n",
    "contents = \"\\n\".join(contents.split(\"\\n\")[59:1952]) \n"
   ]
  },
  {
   "cell_type": "code",
   "execution_count": 21,
   "metadata": {},
   "outputs": [
    {
     "name": "stdout",
     "output_type": "stream",
     "text": [
      "Total characters: 121130\n"
     ]
    }
   ],
   "source": [
    "print(f\"Total characters: {len(contents)}\")"
   ]
  },
  {
   "cell_type": "markdown",
   "metadata": {},
   "source": [
    "## Datenformatierung\n",
    "\n",
    "__Ziel:__ \n",
    "\n",
    "Das Modell soll auf Basis von, z.B. der letzten 40 Zeichen, das nächste Zeichen prädizieren. Dazu muss der Quelltext entsprechend für das Training vorbereitet werden:\n",
    "- Text wird zerlegt in Buchstaben\n",
    "- Jedem Buchstaben wird einer Zahl zugeordnet, sodass der Text als eine Abfolge von Integers dargestellt werden kann\n",
    "- "
   ]
  },
  {
   "cell_type": "code",
   "execution_count": 22,
   "metadata": {},
   "outputs": [
    {
     "name": "stdout",
     "output_type": "stream",
     "text": [
      "Unique characters: 68\n"
     ]
    }
   ],
   "source": [
    "# Get unique characters\n",
    "unique_chars = set(contents)\n",
    "print(f\"Unique characters: {len(unique_chars)}\")\n",
    "\n",
    "# Create dictionaries for character-integer mapping\n",
    "int_to_char = {}\n",
    "char_to_int = {}\n",
    "\n",
    "# Create mappings between characters and integers\n",
    "for i, j in enumerate(unique_chars):\n",
    "    int_to_char[i] = j\n",
    "    char_to_int[j] = i\n",
    "\n",
    "\n",
    "# Save the mappings using pickle\n",
    "with open(\"char_to_int.pickle\", \"wb\") as file:\n",
    "    pickle.dump(char_to_int, file)\n",
    "    \n",
    "with open(\"int_to_char.pickle\", \"wb\") as file:\n",
    "    pickle.dump(int_to_char, file)"
   ]
  },
  {
   "cell_type": "markdown",
   "metadata": {},
   "source": [
    "### Aufbereitung der Daten für das LSTM-Modell\n",
    "- Input- und Output-Daten generieren: \n",
    "    - Input: die letzten 40 Buchstaben (length)\n",
    "    - Output: der nächste Buchstabe nach den 40 Buchstaben\n",
    "- Codierung mit One-Hot-Encoding von X:\n",
    "    - Input-Dimension: 40 letzte Buchstaben x 68 einzigartige Buchstaben\n",
    "    - Output-Dimension: 68 einzigartige Buchstaben"
   ]
  },
  {
   "cell_type": "code",
   "execution_count": 23,
   "metadata": {},
   "outputs": [
    {
     "name": "stdout",
     "output_type": "stream",
     "text": [
      "Input-Dimension (121090, 40, 68)\n",
      "Output-Dimension (121090, 68)\n"
     ]
    }
   ],
   "source": [
    "from keras.utils import to_categorical\n",
    "\n",
    "length = 40\n",
    "X = []\n",
    "y = []\n",
    "\n",
    "for i in range(0, len(contents) - length):\n",
    "    line = contents[i:i+length]\n",
    "    X.append([char_to_int[l] for l in line])\n",
    "    \n",
    "    letter = contents[i+length]\n",
    "    y.append(char_to_int[letter])\n",
    "\n",
    "X = np.array(X)\n",
    "y = np.array(y)\n",
    "\n",
    "# One-Hot-Encoding\n",
    "X = to_categorical(X, num_classes=len(unique_chars))\n",
    "y = to_categorical(y, num_classes=len(unique_chars))\n",
    "print(\"Input-Dimension\", X.shape)\n",
    "print(\"Output-Dimension\", y.shape)\n"
   ]
  },
  {
   "cell_type": "markdown",
   "metadata": {},
   "source": [
    "## Model Training"
   ]
  },
  {
   "cell_type": "code",
   "execution_count": null,
   "metadata": {},
   "outputs": [
    {
     "name": "stderr",
     "output_type": "stream",
     "text": [
      "/Users/alex/anaconda3/envs/ml/lib/python3.11/site-packages/keras/src/layers/rnn/rnn.py:199: UserWarning: Do not pass an `input_shape`/`input_dim` argument to a layer. When using Sequential models, prefer using an `Input(shape)` object as the first layer in the model instead.\n",
      "  super().__init__(**kwargs)\n"
     ]
    }
   ],
   "source": [
    "from keras.models import Sequential\n",
    "from keras.layers import LSTM, Dense, Dropout\n",
    "\n",
    "model = Sequential()\n",
    "model.add(LSTM(128, input_shape=(X.shape[1], X.shape[2]), return_sequences=True))\n",
    "model.add(Dropout(0.2))das405\n",
    "model.add(LSTM(128))\n",
    "model.add(Dropout(0.2))\n",
    "model.add(Dense(y.shape[1], activation='softmax'))\n",
    "\n",
    "model.compile(loss='categorical_crossentropy', \n",
    "              optimizer='adam', \n",
    "              metrics=['accuracy'])"
   ]
  },
  {
   "cell_type": "code",
   "execution_count": 25,
   "metadata": {},
   "outputs": [
    {
     "name": "stdout",
     "output_type": "stream",
     "text": [
      "Epoch 1/10\n",
      "\u001b[1m3785/3785\u001b[0m \u001b[32m━━━━━━━━━━━━━━━━━━━━\u001b[0m\u001b[37m\u001b[0m \u001b[1m120s\u001b[0m 31ms/step - accuracy: 0.3279 - loss: 2.4113\n",
      "Epoch 2/10\n",
      "\u001b[1m3785/3785\u001b[0m \u001b[32m━━━━━━━━━━━━━━━━━━━━\u001b[0m\u001b[37m\u001b[0m \u001b[1m113s\u001b[0m 30ms/step - accuracy: 0.4436 - loss: 1.9159\n",
      "Epoch 3/10\n",
      "\u001b[1m3785/3785\u001b[0m \u001b[32m━━━━━━━━━━━━━━━━━━━━\u001b[0m\u001b[37m\u001b[0m \u001b[1m118s\u001b[0m 31ms/step - accuracy: 0.4838 - loss: 1.7540\n",
      "Epoch 4/10\n",
      "\u001b[1m3785/3785\u001b[0m \u001b[32m━━━━━━━━━━━━━━━━━━━━\u001b[0m\u001b[37m\u001b[0m \u001b[1m117s\u001b[0m 31ms/step - accuracy: 0.5101 - loss: 1.6521\n",
      "Epoch 5/10\n",
      "\u001b[1m3785/3785\u001b[0m \u001b[32m━━━━━━━━━━━━━━━━━━━━\u001b[0m\u001b[37m\u001b[0m \u001b[1m111s\u001b[0m 29ms/step - accuracy: 0.5281 - loss: 1.5820\n",
      "Epoch 6/10\n",
      "\u001b[1m3785/3785\u001b[0m \u001b[32m━━━━━━━━━━━━━━━━━━━━\u001b[0m\u001b[37m\u001b[0m \u001b[1m115s\u001b[0m 30ms/step - accuracy: 0.5410 - loss: 1.5315\n",
      "Epoch 7/10\n",
      "\u001b[1m3785/3785\u001b[0m \u001b[32m━━━━━━━━━━━━━━━━━━━━\u001b[0m\u001b[37m\u001b[0m \u001b[1m116s\u001b[0m 31ms/step - accuracy: 0.5521 - loss: 1.4857\n",
      "Epoch 8/10\n",
      "\u001b[1m3785/3785\u001b[0m \u001b[32m━━━━━━━━━━━━━━━━━━━━\u001b[0m\u001b[37m\u001b[0m \u001b[1m951s\u001b[0m 251ms/step - accuracy: 0.5616 - loss: 1.4509\n",
      "Epoch 9/10\n",
      "\u001b[1m3785/3785\u001b[0m \u001b[32m━━━━━━━━━━━━━━━━━━━━\u001b[0m\u001b[37m\u001b[0m \u001b[1m117s\u001b[0m 31ms/step - accuracy: 0.5702 - loss: 1.4187\n",
      "Epoch 10/10\n",
      "\u001b[1m3785/3785\u001b[0m \u001b[32m━━━━━━━━━━━━━━━━━━━━\u001b[0m\u001b[37m\u001b[0m \u001b[1m115s\u001b[0m 30ms/step - accuracy: 0.5776 - loss: 1.3891\n"
     ]
    },
    {
     "data": {
      "text/plain": [
       "<keras.src.callbacks.history.History at 0x4086cb850>"
      ]
     },
     "execution_count": 25,
     "metadata": {},
     "output_type": "execute_result"
    }
   ],
   "source": [
    "from keras.callbacks import ModelCheckpoint\n",
    "\n",
    "# Save the model after each epoch\n",
    "#save_model = ModelCheckpoint(\"weights.{epoch:02d}-{loss:.2f}.keras\")\n",
    "#model.fit(X, y, batch_size=32, epochs=10, callbacks=[save_model])\n",
    "\n",
    "model.fit(X, y, batch_size=32, epochs=10, verbose=1)"
   ]
  },
  {
   "cell_type": "markdown",
   "metadata": {},
   "source": [
    "## Abspeichern des finalen Modells"
   ]
  },
  {
   "cell_type": "code",
   "execution_count": 26,
   "metadata": {},
   "outputs": [],
   "source": [
    "# save the final model\n",
    "model.save(\"text_generator_model.keras\")"
   ]
  }
 ],
 "metadata": {
  "kernelspec": {
   "display_name": "ml",
   "language": "python",
   "name": "python3"
  },
  "language_info": {
   "codemirror_mode": {
    "name": "ipython",
    "version": 3
   },
   "file_extension": ".py",
   "mimetype": "text/x-python",
   "name": "python",
   "nbconvert_exporter": "python",
   "pygments_lexer": "ipython3",
   "version": "3.11.13"
  }
 },
 "nbformat": 4,
 "nbformat_minor": 2
}
