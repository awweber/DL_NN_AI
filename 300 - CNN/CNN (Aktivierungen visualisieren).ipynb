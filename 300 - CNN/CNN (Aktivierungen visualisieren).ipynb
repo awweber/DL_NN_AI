{
 "cells": [
  {
   "cell_type": "code",
   "execution_count": 5,
   "metadata": {},
   "outputs": [],
   "source": [
    "# Vorstellung: MNIST-Daten!\n",
    "# http://yann.lecun.com/exdb/mnist/\n",
    "# FashionMNIST: https://github.com/zalandoresearch/fashion-mnist\n",
    "\n",
    "import gzip\n",
    "import numpy as np\n",
    "from tensorflow.keras.utils import to_categorical\n",
    "\n",
    "def open_images(filename):\n",
    "    with gzip.open(filename, \"rb\") as file:\n",
    "        data = file.read()\n",
    "        return np.frombuffer(data, dtype=np.uint8, offset=16)\\\n",
    "            .reshape(-1, 28, 28)\\\n",
    "            .astype(np.float32)\n",
    "\n",
    "\n",
    "def open_labels(filename):\n",
    "    with gzip.open(filename, \"rb\") as file:\n",
    "        data = file.read()\n",
    "        return np.frombuffer(data, dtype=np.uint8, offset=8)\n",
    "    \n",
    "X_train = open_images(\"../data/fashion/train-images-idx3-ubyte.gz\")\n",
    "y_train = open_labels(\"../data/fashion/train-labels-idx1-ubyte.gz\")\n",
    "\n",
    "X_test = open_images(\"../data/fashion/t10k-images-idx3-ubyte.gz\")\n",
    "y_test = open_labels(\"../data/fashion/t10k-labels-idx1-ubyte.gz\")\n",
    "\n",
    "y_train = to_categorical(y_train)\n",
    "y_test = to_categorical(y_test)"
   ]
  },
  {
   "cell_type": "code",
   "execution_count": null,
   "metadata": {},
   "outputs": [
    {
     "name": "stderr",
     "output_type": "stream",
     "text": [
      "/home/alex/anaconda3/envs/ml/lib/python3.11/site-packages/keras/src/layers/convolutional/base_conv.py:113: UserWarning: Do not pass an `input_shape`/`input_dim` argument to a layer. When using Sequential models, prefer using an `Input(shape)` object as the first layer in the model instead.\n",
      "  super().__init__(activity_regularizer=activity_regularizer, **kwargs)\n",
      "2025-10-02 11:20:43.555457: E external/local_xla/xla/stream_executor/cuda/cuda_platform.cc:51] failed call to cuInit: INTERNAL: CUDA error: Failed call to cuInit: UNKNOWN ERROR (303)\n"
     ]
    },
    {
     "name": "stdout",
     "output_type": "stream",
     "text": [
      "Epoch 1/10\n",
      "\u001b[1m60/60\u001b[0m \u001b[32m━━━━━━━━━━━━━━━━━━━━\u001b[0m\u001b[37m\u001b[0m \u001b[1m14s\u001b[0m 202ms/step - accuracy: 0.5426 - loss: 1.9911\n",
      "Epoch 2/10\n",
      "\u001b[1m60/60\u001b[0m \u001b[32m━━━━━━━━━━━━━━━━━━━━\u001b[0m\u001b[37m\u001b[0m \u001b[1m13s\u001b[0m 219ms/step - accuracy: 0.7372 - loss: 0.8058\n",
      "Epoch 3/10\n",
      "\u001b[1m60/60\u001b[0m \u001b[32m━━━━━━━━━━━━━━━━━━━━\u001b[0m\u001b[37m\u001b[0m \u001b[1m14s\u001b[0m 236ms/step - accuracy: 0.7818 - loss: 0.6443\n",
      "Epoch 4/10\n",
      "\u001b[1m60/60\u001b[0m \u001b[32m━━━━━━━━━━━━━━━━━━━━\u001b[0m\u001b[37m\u001b[0m \u001b[1m14s\u001b[0m 225ms/step - accuracy: 0.8141 - loss: 0.5411\n",
      "Epoch 5/10\n",
      "\u001b[1m60/60\u001b[0m \u001b[32m━━━━━━━━━━━━━━━━━━━━\u001b[0m\u001b[37m\u001b[0m \u001b[1m13s\u001b[0m 221ms/step - accuracy: 0.8328 - loss: 0.4727\n",
      "Epoch 6/10\n",
      "\u001b[1m60/60\u001b[0m \u001b[32m━━━━━━━━━━━━━━━━━━━━\u001b[0m\u001b[37m\u001b[0m \u001b[1m13s\u001b[0m 212ms/step - accuracy: 0.8507 - loss: 0.4180\n",
      "Epoch 7/10\n",
      "\u001b[1m60/60\u001b[0m \u001b[32m━━━━━━━━━━━━━━━━━━━━\u001b[0m\u001b[37m\u001b[0m \u001b[1m14s\u001b[0m 224ms/step - accuracy: 0.8600 - loss: 0.3949\n",
      "Epoch 8/10\n",
      "\u001b[1m60/60\u001b[0m \u001b[32m━━━━━━━━━━━━━━━━━━━━\u001b[0m\u001b[37m\u001b[0m \u001b[1m14s\u001b[0m 225ms/step - accuracy: 0.8679 - loss: 0.3702\n",
      "Epoch 9/10\n",
      "\u001b[1m60/60\u001b[0m \u001b[32m━━━━━━━━━━━━━━━━━━━━\u001b[0m\u001b[37m\u001b[0m \u001b[1m12s\u001b[0m 202ms/step - accuracy: 0.8744 - loss: 0.3518\n",
      "Epoch 10/10\n",
      "\u001b[1m60/60\u001b[0m \u001b[32m━━━━━━━━━━━━━━━━━━━━\u001b[0m\u001b[37m\u001b[0m \u001b[1m13s\u001b[0m 208ms/step - accuracy: 0.8793 - loss: 0.3366\n"
     ]
    },
    {
     "data": {
      "text/plain": [
       "<keras.src.callbacks.history.History at 0x7fa83867b6d0>"
      ]
     },
     "execution_count": 2,
     "metadata": {},
     "output_type": "execute_result"
    }
   ],
   "source": [
    "from tensorflow.keras.models import Sequential\n",
    "from tensorflow.keras.layers import Dense, Conv2D, Flatten\n",
    "\n",
    "model = Sequential()\n",
    "\n",
    "model.add(Conv2D(10, kernel_size=(3, 3), activation=\"sigmoid\", input_shape=(28, 28, 1)))\n",
    "model.add(Flatten())\n",
    "model.add(Dense(10, activation=\"softmax\"))\n",
    "\n",
    "model.compile(optimizer=\"rmsprop\", loss=\"categorical_crossentropy\", metrics=[\"accuracy\"])\n",
    "model.fit(X_train.reshape(60000, 28, 28, 1), y_train, epochs=10, batch_size=1000)"
   ]
  },
  {
   "cell_type": "code",
   "execution_count": 3,
   "metadata": {},
   "outputs": [
    {
     "data": {
      "text/plain": [
       "<Variable path=sequential/conv2d/kernel, shape=(3, 3, 1, 10), dtype=float32, value=[[[[ 0.03324665 -0.04338456  0.02458068  0.159794   -0.0647938\n",
       "     0.1434857  -0.33625308 -0.24191265 -0.21999744  0.04619554]]\n",
       "\n",
       "  [[ 0.07758744 -0.06748103  0.06984354  0.04452474 -0.27799526\n",
       "    -0.13001017 -0.34693706  0.20194553 -0.01417898  0.1169724 ]]\n",
       "\n",
       "  [[ 0.06637482 -0.2616438  -0.14109904 -0.17404363  0.06981295\n",
       "     0.06280182 -0.08781438 -0.19595914  0.012638   -0.07151866]]]\n",
       "\n",
       "\n",
       " [[[-0.01158347  0.07343107  0.03896498  0.04149165  0.09181792\n",
       "    -0.21986064 -0.03976583 -0.0122065   0.00477968  0.16923228]]\n",
       "\n",
       "  [[-0.0507353   0.15118061  0.07555718  0.20186596  0.09384763\n",
       "    -0.2121976  -0.17280228  0.15653716 -0.09693007 -0.16872035]]\n",
       "\n",
       "  [[-0.01600512  0.01395103 -0.25747374  0.15061697  0.06538144\n",
       "     0.05371159  0.17663306  0.0778684  -0.05580072 -0.08556262]]]\n",
       "\n",
       "\n",
       " [[[-0.08073182 -0.07803067  0.17288062 -0.1783793  -0.09313532\n",
       "    -0.00854493  0.04633543 -0.14206293  0.1829854  -0.03114381]]\n",
       "\n",
       "  [[ 0.04755405  0.21696468  0.14506707 -0.12603112  0.09686016\n",
       "    -0.13064834  0.15304452 -0.1743493   0.10660611 -0.08374628]]\n",
       "\n",
       "  [[-0.2679955  -0.20405039 -0.16914465 -0.24377799 -0.16958524\n",
       "     0.2051633  -0.05149456  0.03573467  0.01542859 -0.0089392 ]]]]>"
      ]
     },
     "execution_count": 3,
     "metadata": {},
     "output_type": "execute_result"
    }
   ],
   "source": [
    "model.layers[0].weights[0]"
   ]
  },
  {
   "cell_type": "code",
   "execution_count": 6,
   "metadata": {},
   "outputs": [
    {
     "name": "stdout",
     "output_type": "stream",
     "text": [
      "[[[[ 0.03324665 -0.04338456  0.02458068  0.159794   -0.0647938\n",
      "     0.1434857  -0.33625308 -0.24191265 -0.21999744  0.04619554]]\n",
      "\n",
      "  [[ 0.07758744 -0.06748103  0.06984354  0.04452474 -0.27799526\n",
      "    -0.13001017 -0.34693706  0.20194553 -0.01417898  0.1169724 ]]\n",
      "\n",
      "  [[ 0.06637482 -0.2616438  -0.14109904 -0.17404363  0.06981295\n",
      "     0.06280182 -0.08781438 -0.19595914  0.012638   -0.07151866]]]\n",
      "\n",
      "\n",
      " [[[-0.01158347  0.07343107  0.03896498  0.04149165  0.09181792\n",
      "    -0.21986064 -0.03976583 -0.0122065   0.00477968  0.16923228]]\n",
      "\n",
      "  [[-0.0507353   0.15118061  0.07555718  0.20186596  0.09384763\n",
      "    -0.2121976  -0.17280228  0.15653716 -0.09693007 -0.16872035]]\n",
      "\n",
      "  [[-0.01600512  0.01395103 -0.25747374  0.15061697  0.06538144\n",
      "     0.05371159  0.17663306  0.0778684  -0.05580072 -0.08556262]]]\n",
      "\n",
      "\n",
      " [[[-0.08073182 -0.07803067  0.17288062 -0.1783793  -0.09313532\n",
      "    -0.00854493  0.04633543 -0.14206293  0.1829854  -0.03114381]]\n",
      "\n",
      "  [[ 0.04755405  0.21696468  0.14506707 -0.12603112  0.09686016\n",
      "    -0.13064834  0.15304452 -0.1743493   0.10660611 -0.08374628]]\n",
      "\n",
      "  [[-0.2679955  -0.20405039 -0.16914465 -0.24377799 -0.16958524\n",
      "     0.2051633  -0.05149456  0.03573467  0.01542859 -0.0089392 ]]]]\n"
     ]
    }
   ],
   "source": [
    "import tensorflow.keras.backend as K\n",
    "\n",
    "data = K.eval(model.layers[0].weights[0])\n",
    "print(data)"
   ]
  },
  {
   "cell_type": "code",
   "execution_count": 7,
   "metadata": {},
   "outputs": [
    {
     "data": {
      "text/plain": [
       "array([[ 0.03324665,  0.07758744,  0.06637482],\n",
       "       [-0.01158347, -0.0507353 , -0.01600512],\n",
       "       [-0.08073182,  0.04755405, -0.2679955 ]], dtype=float32)"
      ]
     },
     "execution_count": 7,
     "metadata": {},
     "output_type": "execute_result"
    }
   ],
   "source": [
    "data[:, :, :, 0].reshape(3, 3)"
   ]
  },
  {
   "cell_type": "code",
   "execution_count": 11,
   "metadata": {},
   "outputs": [
    {
     "data": {
      "image/png": "[encoded data removed]",
      "text/plain": [
       "<Figure size 640x480 with 1 Axes>"
      ]
     },
     "metadata": {},
     "output_type": "display_data"
    }
   ],
   "source": [
    "%matplotlib inline\n",
    "\n",
    "import matplotlib.pyplot as plt\n",
    "\n",
    "plt.imshow(data[:, :, :, 2].reshape(3, 3))\n",
    "plt.show()"
   ]
  },
  {
   "cell_type": "markdown",
   "metadata": {},
   "source": [
    "### Vergleich: https://en.wikipedia.org/wiki/Sobel_operator\n",
    "\n",
    "$ {\\displaystyle \\mathbf {G} _{x}={\\begin{bmatrix}+1&0&-1\\\\+2&0&-2\\\\+1&0&-1\\end{bmatrix}}*\\mathbf {A} \\quad {\\mbox{and}}\\quad \\mathbf {G} _{y}={\\begin{bmatrix}+1&+2&+1\\\\0&0&0\\\\-1&-2&-1\\end{bmatrix}}*\\mathbf {A} } $ "
   ]
  },
  {
   "cell_type": "code",
   "execution_count": null,
   "metadata": {},
   "outputs": [],
   "source": []
  }
 ],
 "metadata": {
  "kernelspec": {
   "display_name": "ml",
   "language": "python",
   "name": "python3"
  },
  "language_info": {
   "codemirror_mode": {
    "name": "ipython",
    "version": 3
   },
   "file_extension": ".py",
   "mimetype": "text/x-python",
   "name": "python",
   "nbconvert_exporter": "python",
   "pygments_lexer": "ipython3",
   "version": "3.11.13"
  }
 },
 "nbformat": 4,
 "nbformat_minor": 2
}
