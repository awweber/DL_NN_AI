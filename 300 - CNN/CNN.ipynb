{
 "cells": [
  {
   "cell_type": "code",
   "execution_count": 3,
   "metadata": {},
   "outputs": [],
   "source": [
    "# Vorstellung: MNIST-Daten!\n",
    "# http://yann.lecun.com/exdb/mnist/\n",
    "# FashionMNIST: https://github.com/zalandoresearch/fashion-mnist\n",
    "\n",
    "import gzip\n",
    "import numpy as np\n",
    "from tensorflow.keras.utils import to_categorical\n",
    "\n",
    "def open_images(filename):\n",
    "    with gzip.open(filename, \"rb\") as file:\n",
    "        data = file.read()\n",
    "        return np.frombuffer(data, dtype=np.uint8, offset=16)\\\n",
    "            .reshape(-1, 28, 28)\\\n",
    "            .astype(np.float32)\n",
    "\n",
    "\n",
    "def open_labels(filename):\n",
    "    with gzip.open(filename, \"rb\") as file:\n",
    "        data = file.read()\n",
    "        return np.frombuffer(data, dtype=np.uint8, offset=8)\n",
    "    \n",
    "X_train = open_images(\"../data/fashion/train-images-idx3-ubyte.gz\")\n",
    "y_train = open_labels(\"../data/fashion/train-labels-idx1-ubyte.gz\")\n",
    "\n",
    "X_test = open_images(\"../data/fashion/t10k-images-idx3-ubyte.gz\")\n",
    "y_test = open_labels(\"../data/fashion/t10k-labels-idx1-ubyte.gz\")\n",
    "\n",
    "y_train = to_categorical(y_train)\n",
    "y_test = to_categorical(y_test)"
   ]
  },
  {
   "cell_type": "code",
   "execution_count": 5,
   "metadata": {},
   "outputs": [
    {
     "name": "stderr",
     "output_type": "stream",
     "text": [
      "/home/alex/anaconda3/envs/ml/lib/python3.11/site-packages/keras/src/layers/convolutional/base_conv.py:113: UserWarning: Do not pass an `input_shape`/`input_dim` argument to a layer. When using Sequential models, prefer using an `Input(shape)` object as the first layer in the model instead.\n",
      "  super().__init__(activity_regularizer=activity_regularizer, **kwargs)\n",
      "2025-10-02 10:11:41.145301: E external/local_xla/xla/stream_executor/cuda/cuda_platform.cc:51] failed call to cuInit: INTERNAL: CUDA error: Failed call to cuInit: UNKNOWN ERROR (303)\n"
     ]
    },
    {
     "name": "stdout",
     "output_type": "stream",
     "text": [
      "Epoch 1/10\n"
     ]
    },
    {
     "name": "stderr",
     "output_type": "stream",
     "text": [
      "2025-10-02 10:11:41.941834: W external/local_xla/xla/tsl/framework/cpu_allocator_impl.cc:84] Allocation of 188160000 exceeds 10% of free system memory.\n"
     ]
    },
    {
     "name": "stdout",
     "output_type": "stream",
     "text": [
      "\u001b[1m60/60\u001b[0m \u001b[32m━━━━━━━━━━━━━━━━━━━━\u001b[0m\u001b[37m\u001b[0m \u001b[1m17s\u001b[0m 230ms/step - accuracy: 0.6578 - loss: 20.0486\n",
      "Epoch 2/10\n",
      "\u001b[1m60/60\u001b[0m \u001b[32m━━━━━━━━━━━━━━━━━━━━\u001b[0m\u001b[37m\u001b[0m \u001b[1m12s\u001b[0m 194ms/step - accuracy: 0.8072 - loss: 2.0483\n",
      "Epoch 3/10\n",
      "\u001b[1m60/60\u001b[0m \u001b[32m━━━━━━━━━━━━━━━━━━━━\u001b[0m\u001b[37m\u001b[0m \u001b[1m10s\u001b[0m 164ms/step - accuracy: 0.8415 - loss: 0.7441\n",
      "Epoch 4/10\n",
      "\u001b[1m60/60\u001b[0m \u001b[32m━━━━━━━━━━━━━━━━━━━━\u001b[0m\u001b[37m\u001b[0m \u001b[1m10s\u001b[0m 171ms/step - accuracy: 0.8670 - loss: 0.4177\n",
      "Epoch 5/10\n",
      "\u001b[1m60/60\u001b[0m \u001b[32m━━━━━━━━━━━━━━━━━━━━\u001b[0m\u001b[37m\u001b[0m \u001b[1m9s\u001b[0m 149ms/step - accuracy: 0.8883 - loss: 0.3197\n",
      "Epoch 6/10\n",
      "\u001b[1m60/60\u001b[0m \u001b[32m━━━━━━━━━━━━━━━━━━━━\u001b[0m\u001b[37m\u001b[0m \u001b[1m9s\u001b[0m 150ms/step - accuracy: 0.9035 - loss: 0.2689\n",
      "Epoch 7/10\n",
      "\u001b[1m60/60\u001b[0m \u001b[32m━━━━━━━━━━━━━━━━━━━━\u001b[0m\u001b[37m\u001b[0m \u001b[1m9s\u001b[0m 147ms/step - accuracy: 0.9134 - loss: 0.2400\n",
      "Epoch 8/10\n",
      "\u001b[1m60/60\u001b[0m \u001b[32m━━━━━━━━━━━━━━━━━━━━\u001b[0m\u001b[37m\u001b[0m \u001b[1m9s\u001b[0m 155ms/step - accuracy: 0.9196 - loss: 0.2182\n",
      "Epoch 9/10\n",
      "\u001b[1m60/60\u001b[0m \u001b[32m━━━━━━━━━━━━━━━━━━━━\u001b[0m\u001b[37m\u001b[0m \u001b[1m10s\u001b[0m 158ms/step - accuracy: 0.9248 - loss: 0.2041\n",
      "Epoch 10/10\n",
      "\u001b[1m60/60\u001b[0m \u001b[32m━━━━━━━━━━━━━━━━━━━━\u001b[0m\u001b[37m\u001b[0m \u001b[1m10s\u001b[0m 160ms/step - accuracy: 0.9298 - loss: 0.1905\n"
     ]
    },
    {
     "data": {
      "text/plain": [
       "<keras.src.callbacks.history.History at 0x7f5223305d10>"
      ]
     },
     "execution_count": 5,
     "metadata": {},
     "output_type": "execute_result"
    }
   ],
   "source": [
    "# CNN!\n",
    "\n",
    "from tensorflow.keras.models import Sequential\n",
    "from tensorflow.keras.layers import Dense, Conv2D, Flatten\n",
    "\n",
    "model = Sequential()\n",
    "\n",
    "model.add(Conv2D(10, kernel_size=(3, 3), activation=\"relu\", input_shape=(28, 28, 1)))\n",
    "model.add(Flatten())\n",
    "model.add(Dense(10, activation=\"softmax\"))\n",
    "\n",
    "model.compile(optimizer=\"rmsprop\", loss=\"categorical_crossentropy\", metrics=[\"accuracy\"])\n",
    "\n",
    "model.fit(\n",
    "    X_train.reshape(60000, 28, 28, 1),\n",
    "    y_train,\n",
    "    epochs=10,\n",
    "    batch_size=1000)"
   ]
  },
  {
   "cell_type": "code",
   "execution_count": 6,
   "metadata": {},
   "outputs": [
    {
     "name": "stdout",
     "output_type": "stream",
     "text": [
      "\u001b[31mInit signature:\u001b[39m\n",
      "Conv2D(\n",
      "    filters,\n",
      "    kernel_size,\n",
      "    strides=(\u001b[32m1\u001b[39m, \u001b[32m1\u001b[39m),\n",
      "    padding=\u001b[33m'valid'\u001b[39m,\n",
      "    data_format=\u001b[38;5;28;01mNone\u001b[39;00m,\n",
      "    dilation_rate=(\u001b[32m1\u001b[39m, \u001b[32m1\u001b[39m),\n",
      "    groups=\u001b[32m1\u001b[39m,\n",
      "    activation=\u001b[38;5;28;01mNone\u001b[39;00m,\n",
      "    use_bias=\u001b[38;5;28;01mTrue\u001b[39;00m,\n",
      "    kernel_initializer=\u001b[33m'glorot_uniform'\u001b[39m,\n",
      "    bias_initializer=\u001b[33m'zeros'\u001b[39m,\n",
      "    kernel_regularizer=\u001b[38;5;28;01mNone\u001b[39;00m,\n",
      "    bias_regularizer=\u001b[38;5;28;01mNone\u001b[39;00m,\n",
      "    activity_regularizer=\u001b[38;5;28;01mNone\u001b[39;00m,\n",
      "    kernel_constraint=\u001b[38;5;28;01mNone\u001b[39;00m,\n",
      "    bias_constraint=\u001b[38;5;28;01mNone\u001b[39;00m,\n",
      "    **kwargs,\n",
      ")\n",
      "\u001b[31mDocstring:\u001b[39m     \n",
      "2D convolution layer.\n",
      "\n",
      "This layer creates a convolution kernel that is convolved with the layer\n",
      "input over a 2D spatial (or temporal) dimension (height and width) to\n",
      "produce a tensor of outputs. If `use_bias` is True, a bias vector is created\n",
      "and added to the outputs. Finally, if `activation` is not `None`, it is\n",
      "applied to the outputs as well.\n",
      "\n",
      "Note on numerical precision: While in general Keras operation execution\n",
      "results are identical across backends up to 1e-7 precision in float32,\n",
      "`Conv2D` operations may show larger variations. Due to the large\n",
      "number of element-wise multiplications and additions in convolution\n",
      "operations, especially with large inputs or kernel sizes, accumulated\n",
      "floating-point differences can exceed this 1e-7 threshold. These variations\n",
      "are particularly noticeable when using different backends (e.g., TensorFlow\n",
      "vs JAX) or different hardware.\n",
      "\n",
      "Args:\n",
      "    filters: int, the dimension of the output space (the number of filters\n",
      "        in the convolution).\n",
      "    kernel_size: int or tuple/list of 2 integer, specifying the size of the\n",
      "        convolution window.\n",
      "    strides: int or tuple/list of 2 integer, specifying the stride length\n",
      "        of the convolution. `strides > 1` is incompatible with\n",
      "        `dilation_rate > 1`.\n",
      "    padding: string, either `\"valid\"` or `\"same\"` (case-insensitive).\n",
      "        `\"valid\"` means no padding. `\"same\"` results in padding evenly to\n",
      "        the left/right or up/down of the input. When `padding=\"same\"` and\n",
      "        `strides=1`, the output has the same size as the input.\n",
      "    data_format: string, either `\"channels_last\"` or `\"channels_first\"`.\n",
      "        The ordering of the dimensions in the inputs. `\"channels_last\"`\n",
      "        corresponds to inputs with shape\n",
      "        `(batch_size, height, width, channels)`\n",
      "        while `\"channels_first\"` corresponds to inputs with shape\n",
      "        `(batch_size, channels, height, width)`. It defaults to the\n",
      "        `image_data_format` value found in your Keras config file at\n",
      "        `~/.keras/keras.json`. If you never set it, then it will be\n",
      "        `\"channels_last\"`.\n",
      "    dilation_rate: int or tuple/list of 2 integers, specifying the dilation\n",
      "        rate to use for dilated convolution.\n",
      "    groups: A positive int specifying the number of groups in which the\n",
      "        input is split along the channel axis. Each group is convolved\n",
      "        separately with `filters // groups` filters. The output is the\n",
      "        concatenation of all the `groups` results along the channel axis.\n",
      "        Input channels and `filters` must both be divisible by `groups`.\n",
      "    activation: Activation function. If `None`, no activation is applied.\n",
      "    use_bias: bool, if `True`, bias will be added to the output.\n",
      "    kernel_initializer: Initializer for the convolution kernel. If `None`,\n",
      "        the default initializer (`\"glorot_uniform\"`) will be used.\n",
      "    bias_initializer: Initializer for the bias vector. If `None`, the\n",
      "        default initializer (`\"zeros\"`) will be used.\n",
      "    kernel_regularizer: Optional regularizer for the convolution kernel.\n",
      "    bias_regularizer: Optional regularizer for the bias vector.\n",
      "    activity_regularizer: Optional regularizer function for the output.\n",
      "    kernel_constraint: Optional projection function to be applied to the\n",
      "        kernel after being updated by an `Optimizer` (e.g. used to implement\n",
      "        norm constraints or value constraints for layer weights). The\n",
      "        function must take as input the unprojected variable and must return\n",
      "        the projected variable (which must have the same shape). Constraints\n",
      "        are not safe to use when doing asynchronous distributed training.\n",
      "    bias_constraint: Optional projection function to be applied to the\n",
      "        bias after being updated by an `Optimizer`.\n",
      "\n",
      "Input shape:\n",
      "\n",
      "- If `data_format=\"channels_last\"`:\n",
      "    A 4D tensor with shape: `(batch_size, height, width, channels)`\n",
      "- If `data_format=\"channels_first\"`:\n",
      "    A 4D tensor with shape: `(batch_size, channels, height, width)`\n",
      "\n",
      "Output shape:\n",
      "\n",
      "- If `data_format=\"channels_last\"`:\n",
      "    A 4D tensor with shape: `(batch_size, new_height, new_width, filters)`\n",
      "- If `data_format=\"channels_first\"`:\n",
      "    A 4D tensor with shape: `(batch_size, filters, new_height, new_width)`\n",
      "\n",
      "Returns:\n",
      "    A 4D tensor representing `activation(conv2d(inputs, kernel) + bias)`.\n",
      "\n",
      "Raises:\n",
      "    ValueError: when both `strides > 1` and `dilation_rate > 1`.\n",
      "\n",
      "Example:\n",
      "\n",
      ">>> x = np.random.rand(4, 10, 10, 128)\n",
      ">>> y = keras.layers.Conv2D(32, 3, activation='relu')(x)\n",
      ">>> print(y.shape)\n",
      "(4, 8, 8, 32)\n",
      "\u001b[31mFile:\u001b[39m           ~/anaconda3/envs/ml/lib/python3.11/site-packages/keras/src/layers/convolutional/conv2d.py\n",
      "\u001b[31mType:\u001b[39m           type\n",
      "\u001b[31mSubclasses:\u001b[39m     "
     ]
    }
   ],
   "source": [
    "Conv2D?"
   ]
  }
 ],
 "metadata": {
  "kernelspec": {
   "display_name": "ml",
   "language": "python",
   "name": "python3"
  },
  "language_info": {
   "codemirror_mode": {
    "name": "ipython",
    "version": 3
   },
   "file_extension": ".py",
   "mimetype": "text/x-python",
   "name": "python",
   "nbconvert_exporter": "python",
   "pygments_lexer": "ipython3",
   "version": "3.11.13"
  }
 },
 "nbformat": 4,
 "nbformat_minor": 2
}
