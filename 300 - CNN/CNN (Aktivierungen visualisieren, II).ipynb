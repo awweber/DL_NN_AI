{
 "cells": [
  {
   "cell_type": "code",
   "execution_count": 1,
   "metadata": {},
   "outputs": [
    {
     "name": "stderr",
     "output_type": "stream",
     "text": [
      "2025-10-02 11:25:38.889969: I external/local_xla/xla/tsl/cuda/cudart_stub.cc:31] Could not find cuda drivers on your machine, GPU will not be used.\n",
      "2025-10-02 11:25:39.065826: I tensorflow/core/platform/cpu_feature_guard.cc:210] This TensorFlow binary is optimized to use available CPU instructions in performance-critical operations.\n",
      "To enable the following instructions: AVX2 FMA, in other operations, rebuild TensorFlow with the appropriate compiler flags.\n",
      "2025-10-02 11:25:47.667662: I external/local_xla/xla/tsl/cuda/cudart_stub.cc:31] Could not find cuda drivers on your machine, GPU will not be used.\n"
     ]
    }
   ],
   "source": [
    "# Vorstellung: MNIST-Daten!\n",
    "# http://yann.lecun.com/exdb/mnist/\n",
    "# FashionMNIST: https://github.com/zalandoresearch/fashion-mnist\n",
    "\n",
    "import gzip\n",
    "import numpy as np\n",
    "from tensorflow.keras.utils import to_categorical\n",
    "\n",
    "def open_images(filename):\n",
    "    with gzip.open(filename, \"rb\") as file:\n",
    "        data = file.read()\n",
    "        return np.frombuffer(data, dtype=np.uint8, offset=16)\\\n",
    "            .reshape(-1, 28, 28)\\\n",
    "            .astype(np.float32)\n",
    "\n",
    "\n",
    "def open_labels(filename):\n",
    "    with gzip.open(filename, \"rb\") as file:\n",
    "        data = file.read()\n",
    "        return np.frombuffer(data, dtype=np.uint8, offset=8)\n",
    "    \n",
    "X_train = open_images(\"../data/fashion/train-images-idx3-ubyte.gz\")\n",
    "y_train = open_labels(\"../data/fashion/train-labels-idx1-ubyte.gz\")\n",
    "\n",
    "X_test = open_images(\"../data/fashion/t10k-images-idx3-ubyte.gz\")\n",
    "y_test = open_labels(\"../data/fashion/t10k-labels-idx1-ubyte.gz\")\n",
    "\n",
    "y_train = to_categorical(y_train)\n",
    "y_test = to_categorical(y_test)"
   ]
  },
  {
   "cell_type": "code",
   "execution_count": 2,
   "metadata": {},
   "outputs": [
    {
     "name": "stderr",
     "output_type": "stream",
     "text": [
      "/home/alex/anaconda3/envs/ml/lib/python3.11/site-packages/keras/src/layers/convolutional/base_conv.py:113: UserWarning: Do not pass an `input_shape`/`input_dim` argument to a layer. When using Sequential models, prefer using an `Input(shape)` object as the first layer in the model instead.\n",
      "  super().__init__(activity_regularizer=activity_regularizer, **kwargs)\n",
      "2025-10-02 11:25:54.509551: E external/local_xla/xla/stream_executor/cuda/cuda_platform.cc:51] failed call to cuInit: INTERNAL: CUDA error: Failed call to cuInit: UNKNOWN ERROR (303)\n"
     ]
    },
    {
     "name": "stdout",
     "output_type": "stream",
     "text": [
      "Epoch 1/10\n",
      "\u001b[1m60/60\u001b[0m \u001b[32m━━━━━━━━━━━━━━━━━━━━\u001b[0m\u001b[37m\u001b[0m \u001b[1m14s\u001b[0m 204ms/step - accuracy: 0.6049 - loss: 1.4415\n",
      "Epoch 2/10\n",
      "\u001b[1m60/60\u001b[0m \u001b[32m━━━━━━━━━━━━━━━━━━━━\u001b[0m\u001b[37m\u001b[0m \u001b[1m15s\u001b[0m 256ms/step - accuracy: 0.7809 - loss: 0.6159\n",
      "Epoch 3/10\n",
      "\u001b[1m60/60\u001b[0m \u001b[32m━━━━━━━━━━━━━━━━━━━━\u001b[0m\u001b[37m\u001b[0m \u001b[1m19s\u001b[0m 310ms/step - accuracy: 0.8206 - loss: 0.5061\n",
      "Epoch 4/10\n",
      "\u001b[1m60/60\u001b[0m \u001b[32m━━━━━━━━━━━━━━━━━━━━\u001b[0m\u001b[37m\u001b[0m \u001b[1m18s\u001b[0m 303ms/step - accuracy: 0.8399 - loss: 0.4489\n",
      "Epoch 5/10\n",
      "\u001b[1m60/60\u001b[0m \u001b[32m━━━━━━━━━━━━━━━━━━━━\u001b[0m\u001b[37m\u001b[0m \u001b[1m20s\u001b[0m 286ms/step - accuracy: 0.8512 - loss: 0.4164\n",
      "Epoch 6/10\n",
      "\u001b[1m60/60\u001b[0m \u001b[32m━━━━━━━━━━━━━━━━━━━━\u001b[0m\u001b[37m\u001b[0m \u001b[1m21s\u001b[0m 301ms/step - accuracy: 0.8599 - loss: 0.3854\n",
      "Epoch 7/10\n",
      "\u001b[1m60/60\u001b[0m \u001b[32m━━━━━━━━━━━━━━━━━━━━\u001b[0m\u001b[37m\u001b[0m \u001b[1m20s\u001b[0m 300ms/step - accuracy: 0.8695 - loss: 0.3616\n",
      "Epoch 8/10\n",
      "\u001b[1m60/60\u001b[0m \u001b[32m━━━━━━━━━━━━━━━━━━━━\u001b[0m\u001b[37m\u001b[0m \u001b[1m17s\u001b[0m 275ms/step - accuracy: 0.8734 - loss: 0.3489\n",
      "Epoch 9/10\n",
      "\u001b[1m60/60\u001b[0m \u001b[32m━━━━━━━━━━━━━━━━━━━━\u001b[0m\u001b[37m\u001b[0m \u001b[1m16s\u001b[0m 273ms/step - accuracy: 0.8827 - loss: 0.3269\n",
      "Epoch 10/10\n",
      "\u001b[1m60/60\u001b[0m \u001b[32m━━━━━━━━━━━━━━━━━━━━\u001b[0m\u001b[37m\u001b[0m \u001b[1m17s\u001b[0m 278ms/step - accuracy: 0.8845 - loss: 0.3190\n"
     ]
    },
    {
     "data": {
      "text/plain": [
       "<keras.src.callbacks.history.History at 0x7fba50d2d250>"
      ]
     },
     "execution_count": 2,
     "metadata": {},
     "output_type": "execute_result"
    }
   ],
   "source": [
    "from tensorflow.keras.models import Sequential\n",
    "from tensorflow.keras.layers import Dense, Conv2D, Flatten\n",
    "\n",
    "model = Sequential()\n",
    "\n",
    "model.add(Conv2D(10, kernel_size=(3, 3), activation=\"sigmoid\", input_shape=(28, 28, 1)))\n",
    "model.add(Flatten())\n",
    "model.add(Dense(10, activation=\"softmax\"))\n",
    "\n",
    "model.compile(optimizer=\"rmsprop\", loss=\"categorical_crossentropy\", metrics=[\"accuracy\"])\n",
    "model.fit(X_train.reshape(60000, 28, 28, 1), y_train, epochs=10, batch_size=1000)"
   ]
  },
  {
   "cell_type": "markdown",
   "metadata": {},
   "source": [
    "Zur Untersuchung der Ausgabe der CNN-Layers wird ein neues Sequential-Modell 'model2' mit CNN-Layer erstellt, dem die gelernten Gewichte von 'model' übergeben werden"
   ]
  },
  {
   "cell_type": "code",
   "execution_count": 4,
   "metadata": {},
   "outputs": [],
   "source": [
    "model2 = Sequential()\n",
    "\n",
    "conv_layer = Conv2D(10,\n",
    "        kernel_size=(3, 3),\n",
    "        activation=\"sigmoid\",\n",
    "        input_shape=(28, 28, 1))\n",
    "     \n",
    "model2.add(conv_layer)\n",
    "conv_layer.set_weights(model.layers[0].get_weights())"
   ]
  },
  {
   "cell_type": "markdown",
   "metadata": {},
   "source": [
    "Exemplarischer Vergleich der Testdaten mit der Predict-Ausgabe des CNN-Layers"
   ]
  },
  {
   "cell_type": "code",
   "execution_count": 6,
   "metadata": {},
   "outputs": [
    {
     "data": {
      "image/png": "[encoded data removed]",
      "text/plain": [
       "<Figure size 640x480 with 1 Axes>"
      ]
     },
     "metadata": {},
     "output_type": "display_data"
    }
   ],
   "source": [
    "%matplotlib inline\n",
    "\n",
    "import matplotlib.pyplot as plt\n",
    "\n",
    "plt.imshow(X_test[0], cmap=\"gray_r\")\n",
    "plt.show()"
   ]
  },
  {
   "cell_type": "code",
   "execution_count": 7,
   "metadata": {},
   "outputs": [
    {
     "name": "stdout",
     "output_type": "stream",
     "text": [
      "\u001b[1m1/1\u001b[0m \u001b[32m━━━━━━━━━━━━━━━━━━━━\u001b[0m\u001b[37m\u001b[0m \u001b[1m0s\u001b[0m 93ms/step\n"
     ]
    }
   ],
   "source": [
    "result = model2.predict(X_test[0].reshape(1, 28, 28, 1))"
   ]
  },
  {
   "cell_type": "code",
   "execution_count": 8,
   "metadata": {},
   "outputs": [
    {
     "data": {
      "text/plain": [
       "(1, 26, 26, 10)"
      ]
     },
     "execution_count": 8,
     "metadata": {},
     "output_type": "execute_result"
    }
   ],
   "source": [
    "result.shape"
   ]
  },
  {
   "cell_type": "code",
   "execution_count": 9,
   "metadata": {},
   "outputs": [
    {
     "data": {
      "text/plain": [
       "(26, 26, 10)"
      ]
     },
     "execution_count": 9,
     "metadata": {},
     "output_type": "execute_result"
    }
   ],
   "source": [
    "result[0].shape"
   ]
  },
  {
   "cell_type": "code",
   "execution_count": 10,
   "metadata": {},
   "outputs": [
    {
     "data": {
      "text/plain": [
       "array([[4.22678560e-01, 4.22678560e-01, 4.22678560e-01, 4.22678560e-01,\n",
       "        4.22678560e-01, 4.22678560e-01, 4.22678560e-01, 4.22678560e-01,\n",
       "        4.22678560e-01, 4.22678560e-01, 4.22678560e-01, 4.22678560e-01,\n",
       "        4.22678560e-01, 4.22678560e-01, 4.22678560e-01, 4.22678560e-01,\n",
       "        4.22678560e-01, 4.22678560e-01, 4.22678560e-01, 4.22678560e-01,\n",
       "        4.22678560e-01, 4.22678560e-01, 4.22678560e-01, 4.22678560e-01,\n",
       "        4.22678560e-01, 4.22678560e-01],\n",
       "       [4.22678560e-01, 4.22678560e-01, 4.22678560e-01, 4.22678560e-01,\n",
       "        4.22678560e-01, 4.22678560e-01, 4.22678560e-01, 4.22678560e-01,\n",
       "        4.22678560e-01, 4.22678560e-01, 4.22678560e-01, 4.22678560e-01,\n",
       "        4.22678560e-01, 4.22678560e-01, 4.22678560e-01, 4.22678560e-01,\n",
       "        4.22678560e-01, 4.22678560e-01, 4.22678560e-01, 4.22678560e-01,\n",
       "        4.22678560e-01, 4.22678560e-01, 4.22678560e-01, 4.22678560e-01,\n",
       "        4.22678560e-01, 4.22678560e-01],\n",
       "       [4.22678560e-01, 4.22678560e-01, 4.22678560e-01, 4.22678560e-01,\n",
       "        4.22678560e-01, 4.22678560e-01, 4.22678560e-01, 4.22678560e-01,\n",
       "        4.22678560e-01, 4.22678560e-01, 4.22678560e-01, 4.22678560e-01,\n",
       "        4.22678560e-01, 4.22678560e-01, 4.22678560e-01, 4.22678560e-01,\n",
       "        4.22678560e-01, 4.22678560e-01, 4.22678560e-01, 4.22678560e-01,\n",
       "        4.22678560e-01, 4.22678560e-01, 4.22678560e-01, 4.22678560e-01,\n",
       "        4.22678560e-01, 4.22678560e-01],\n",
       "       [4.22678560e-01, 4.22678560e-01, 4.22678560e-01, 4.22678560e-01,\n",
       "        4.22678560e-01, 4.22678560e-01, 4.22678560e-01, 4.22678560e-01,\n",
       "        4.22678560e-01, 4.22678560e-01, 4.22678560e-01, 4.22678560e-01,\n",
       "        4.22678560e-01, 4.22678560e-01, 4.22678560e-01, 4.22678560e-01,\n",
       "        4.22678560e-01, 4.22678560e-01, 4.22678560e-01, 4.22678560e-01,\n",
       "        4.22678560e-01, 4.22678560e-01, 4.22678560e-01, 4.22678560e-01,\n",
       "        4.22678560e-01, 4.22678560e-01],\n",
       "       [4.22678560e-01, 4.22678560e-01, 4.22678560e-01, 4.22678560e-01,\n",
       "        4.22678560e-01, 4.22678560e-01, 4.22678560e-01, 4.22678560e-01,\n",
       "        4.22678560e-01, 4.22678560e-01, 4.22678560e-01, 4.22678560e-01,\n",
       "        4.22678560e-01, 4.22678560e-01, 4.22678560e-01, 4.22678560e-01,\n",
       "        4.22678560e-01, 4.22678560e-01, 4.22678560e-01, 4.22678560e-01,\n",
       "        4.22678560e-01, 4.22678560e-01, 4.22678560e-01, 4.22678560e-01,\n",
       "        4.22678560e-01, 4.22678560e-01],\n",
       "       [4.22678560e-01, 4.22678560e-01, 4.22678560e-01, 4.22678560e-01,\n",
       "        4.22678560e-01, 4.22678560e-01, 4.22678560e-01, 4.22678560e-01,\n",
       "        4.22678560e-01, 4.22678560e-01, 4.22678560e-01, 4.22678560e-01,\n",
       "        4.22678560e-01, 4.22678560e-01, 4.22678560e-01, 4.22678560e-01,\n",
       "        4.22678560e-01, 3.75626534e-01, 4.49918211e-01, 4.92293149e-01,\n",
       "        4.40848976e-01, 3.16484660e-01, 5.24840295e-01, 9.83987227e-02,\n",
       "        8.65513563e-01, 9.18997407e-01],\n",
       "       [4.22678560e-01, 4.22678560e-01, 4.22678560e-01, 4.22678560e-01,\n",
       "        4.22678560e-01, 4.22678560e-01, 4.22678560e-01, 4.22678560e-01,\n",
       "        4.22678560e-01, 4.22678560e-01, 4.22678560e-01, 4.06792074e-01,\n",
       "        4.05174345e-01, 4.69980389e-01, 1.26646474e-01, 1.44307110e-02,\n",
       "        9.97275829e-01, 9.98998165e-01, 5.71200013e-01, 4.74141985e-01,\n",
       "        4.48822796e-01, 6.22855902e-01, 2.52091110e-01, 4.49307747e-02,\n",
       "        9.29496646e-01, 9.99996006e-01],\n",
       "       [4.22678560e-01, 4.22678560e-01, 4.22678560e-01, 4.22678560e-01,\n",
       "        4.22678560e-01, 4.22678560e-01, 4.22678560e-01, 4.22678560e-01,\n",
       "        4.22678560e-01, 4.22678560e-01, 4.22678560e-01, 4.35110033e-01,\n",
       "        4.67188865e-01, 4.12658095e-01, 6.17195331e-02, 9.06154096e-01,\n",
       "        9.04539168e-01, 1.00000000e+00, 9.99871552e-01, 2.11862251e-01,\n",
       "        3.42807591e-01, 8.38921964e-02, 6.68681320e-03, 9.99637604e-01,\n",
       "        5.43915927e-01, 9.99525428e-01],\n",
       "       [4.22678560e-01, 4.22678560e-01, 4.22678560e-01, 4.22678560e-01,\n",
       "        4.22678560e-01, 4.22678560e-01, 4.22678560e-01, 4.22678560e-01,\n",
       "        4.22678560e-01, 4.22678560e-01, 4.22678560e-01, 3.66176665e-01,\n",
       "        4.12166923e-01, 2.44331732e-02, 8.08864474e-01, 9.50101018e-01,\n",
       "        9.83362019e-01, 3.28471139e-09, 1.00000000e+00, 9.99983430e-01,\n",
       "        9.99995112e-01, 9.99995828e-01, 9.99999881e-01, 9.95001912e-01,\n",
       "        1.00000000e+00, 5.53952884e-09],\n",
       "       [4.22678560e-01, 4.22678560e-01, 4.22678560e-01, 4.22678560e-01,\n",
       "        4.22678560e-01, 4.22678560e-01, 4.22678560e-01, 4.22678560e-01,\n",
       "        4.22678560e-01, 4.22678560e-01, 3.91098291e-01, 5.44703603e-01,\n",
       "        2.12185293e-01, 8.41413438e-02, 7.55758584e-01, 9.34748888e-01,\n",
       "        9.74476166e-07, 1.06934482e-10, 1.19658607e-05, 1.00000000e+00,\n",
       "        1.00000000e+00, 1.00000000e+00, 1.00000000e+00, 9.99791563e-01,\n",
       "        2.63718161e-04, 2.27345536e-05],\n",
       "       [4.22678560e-01, 4.22678560e-01, 4.22678560e-01, 4.22678560e-01,\n",
       "        4.06792074e-01, 4.37075347e-01, 4.08872604e-01, 4.35425580e-01,\n",
       "        4.73798990e-01, 3.93151700e-01, 5.24200022e-01, 3.37102413e-01,\n",
       "        1.85564568e-03, 9.99442458e-01, 1.28950208e-01, 1.44651986e-03,\n",
       "        7.62532771e-15, 4.61852887e-13, 9.23967256e-16, 4.64939662e-19,\n",
       "        1.81747859e-15, 2.38340141e-18, 3.71581617e-13, 5.51856226e-17,\n",
       "        7.27019390e-16, 1.84707760e-09],\n",
       "       [4.22678560e-01, 4.22678560e-01, 4.06792074e-01, 4.37075347e-01,\n",
       "        4.69660699e-01, 3.95894259e-01, 5.06747961e-01, 3.97185445e-01,\n",
       "        3.99811685e-01, 5.79189181e-01, 3.53306890e-01, 3.05471453e-03,\n",
       "        9.99447644e-01, 3.63935418e-02, 9.99454319e-01, 3.13739746e-17,\n",
       "        4.97337618e-16, 1.14168335e-14, 1.87744588e-17, 3.35524995e-21,\n",
       "        2.94418582e-18, 1.26114049e-17, 1.16776603e-18, 1.22151521e-16,\n",
       "        6.95866569e-14, 1.23790276e-08],\n",
       "       [4.22678560e-01, 4.22678560e-01, 4.51261133e-01, 3.95894259e-01,\n",
       "        3.94700646e-01, 3.91502231e-01, 3.73870522e-01, 4.95552063e-01,\n",
       "        3.65397304e-01, 2.21486941e-01, 1.72294560e-03, 9.97182846e-01,\n",
       "        9.71608341e-01, 9.92935658e-01, 3.20378758e-11, 2.56315124e-13,\n",
       "        6.78184993e-14, 6.34425518e-15, 8.52331194e-19, 1.12054386e-17,\n",
       "        9.66164409e-18, 1.06485872e-17, 4.31278902e-17, 8.32534125e-16,\n",
       "        9.88417463e-16, 4.39026648e-10],\n",
       "       [3.91098291e-01, 4.19408113e-01, 4.49456990e-01, 4.45048243e-01,\n",
       "        4.43536371e-01, 5.19880950e-01, 3.95053804e-01, 5.00708699e-01,\n",
       "        1.01466380e-01, 2.99384305e-03, 9.99976814e-01, 9.92638350e-01,\n",
       "        9.75889504e-01, 1.93238733e-07, 2.19203749e-16, 7.63192620e-09,\n",
       "        5.85130555e-11, 2.73299352e-15, 3.08615396e-17, 6.66525483e-14,\n",
       "        9.31402061e-17, 1.28984093e-18, 3.16771235e-18, 3.83959611e-16,\n",
       "        3.02491638e-16, 8.62776850e-14],\n",
       "       [5.35650432e-01, 4.25314099e-01, 4.49055433e-01, 5.05634189e-01,\n",
       "        3.52157116e-01, 1.40827566e-01, 3.71091180e-02, 4.71745990e-02,\n",
       "        9.82755184e-01, 9.99999881e-01, 9.72993016e-01, 9.96049643e-01,\n",
       "        6.17941032e-10, 3.63036415e-16, 7.73396625e-11, 2.69916446e-12,\n",
       "        5.72259601e-12, 1.12681137e-16, 7.00828149e-14, 1.04630558e-14,\n",
       "        2.89185069e-16, 1.53659982e-17, 4.60094938e-18, 1.48071921e-16,\n",
       "        6.85893082e-16, 1.64023763e-18],\n",
       "       [1.57003343e-01, 6.61445856e-02, 3.94246101e-01, 8.43765080e-01,\n",
       "        9.56688106e-01, 9.87253845e-01, 9.99768376e-01, 9.99999702e-01,\n",
       "        9.99999881e-01, 9.99719739e-01, 7.46213973e-01, 6.56380852e-11,\n",
       "        1.27400087e-12, 3.71316533e-10, 2.58809588e-11, 2.67056906e-12,\n",
       "        1.88409248e-14, 7.97637096e-17, 3.69444296e-14, 9.16084264e-17,\n",
       "        3.10543957e-16, 3.84934454e-17, 1.99570351e-18, 1.65458179e-14,\n",
       "        8.73510469e-17, 2.89027808e-13],\n",
       "       [3.07040274e-01, 9.99691308e-01, 9.99831498e-01, 9.99997199e-01,\n",
       "        9.99999821e-01, 1.00000000e+00, 9.99998510e-01, 9.89241064e-01,\n",
       "        5.30600955e-04, 2.47693617e-08, 4.74675941e-12, 1.07575185e-10,\n",
       "        1.56097274e-10, 2.16401398e-12, 2.75640466e-15, 3.76181630e-14,\n",
       "        2.23870300e-15, 1.01422466e-18, 2.53438937e-18, 3.48997420e-20,\n",
       "        1.01865373e-16, 1.84991454e-14, 2.16893056e-16, 3.28146255e-16,\n",
       "        1.62156475e-13, 1.55347360e-13],\n",
       "       [9.99522805e-01, 9.99999821e-01, 9.99870181e-01, 7.94315769e-04,\n",
       "        5.00087153e-05, 1.23317037e-07, 1.61731240e-09, 2.08083239e-13,\n",
       "        1.33276619e-14, 1.82501475e-13, 1.95061415e-11, 5.78182630e-13,\n",
       "        3.49974758e-12, 5.27342520e-14, 9.76359428e-14, 4.87924944e-15,\n",
       "        2.58579237e-14, 8.95727940e-15, 2.93319293e-15, 3.35620754e-15,\n",
       "        1.18881201e-15, 3.84293713e-16, 1.36627558e-14, 4.43989392e-16,\n",
       "        1.57721522e-17, 4.69272219e-15],\n",
       "       [1.15874538e-03, 6.62223436e-04, 1.17124777e-07, 3.73250799e-07,\n",
       "        1.62157052e-10, 1.63503988e-10, 7.91560567e-11, 4.65817272e-12,\n",
       "        2.02718240e-13, 9.77569512e-16, 1.77550441e-16, 3.65173704e-17,\n",
       "        5.11916538e-16, 1.00402076e-12, 2.55216139e-12, 3.62916137e-15,\n",
       "        1.89279690e-12, 3.09160320e-09, 1.87360656e-14, 1.66206826e-10,\n",
       "        1.15265545e-12, 8.28393289e-13, 1.12259568e-09, 8.86617946e-10,\n",
       "        4.22468972e-13, 4.28515811e-13],\n",
       "       [7.24826449e-12, 2.78282915e-22, 2.57474564e-16, 1.72562884e-11,\n",
       "        1.05486475e-09, 1.73882402e-08, 2.91485208e-06, 7.39195514e-07,\n",
       "        2.54583028e-06, 2.58327390e-07, 1.78594959e-07, 1.32014275e-05,\n",
       "        9.44816563e-08, 2.84943735e-06, 6.35478603e-09, 4.86681062e-13,\n",
       "        4.00836079e-22, 4.43358751e-21, 6.45290185e-27, 1.15099005e-27,\n",
       "        1.00999683e-18, 2.19582803e-17, 1.04596440e-18, 1.64231623e-18,\n",
       "        9.45321326e-20, 1.45072243e-17],\n",
       "       [3.61970143e-09, 3.89115552e-25, 1.88106872e-29, 6.39166355e-32,\n",
       "        7.68094903e-28, 1.48733499e-26, 1.13952127e-21, 1.08319682e-17,\n",
       "        3.28435670e-15, 1.36215529e-12, 3.14588748e-14, 1.17803132e-16,\n",
       "        7.73463794e-21, 2.08321824e-29, 4.65674622e-33, 5.67676501e-37,\n",
       "        9.99428373e-38, 0.00000000e+00, 3.37209362e-31, 2.26930874e-33,\n",
       "        1.57893255e-37, 7.13358180e-37, 1.60245172e-37, 1.18000254e-36,\n",
       "        1.89322104e-36, 2.94637677e-33],\n",
       "       [4.22678560e-01, 1.96728572e-01, 1.93706877e-03, 2.17011689e-06,\n",
       "        1.56986837e-16, 1.00483007e-22, 1.11032835e-31, 4.06866031e-35,\n",
       "        3.80826467e-37, 0.00000000e+00, 0.00000000e+00, 6.02968752e-38,\n",
       "        3.48275070e-36, 4.21322425e-31, 1.00115707e-22, 6.97989518e-13,\n",
       "        4.63554785e-02, 4.22678560e-01, 6.45721343e-08, 6.15626448e-08,\n",
       "        3.72454063e-33, 3.45133915e-37, 8.17673962e-34, 7.94036619e-32,\n",
       "        1.16161930e-29, 1.43411741e-23],\n",
       "       [4.22678560e-01, 4.22678560e-01, 4.22678560e-01, 4.22678560e-01,\n",
       "        4.22678560e-01, 4.22678560e-01, 4.22678560e-01, 4.22678560e-01,\n",
       "        4.22678560e-01, 4.22678560e-01, 4.22678560e-01, 4.22678560e-01,\n",
       "        4.22678560e-01, 4.22678560e-01, 4.22678560e-01, 4.22678560e-01,\n",
       "        4.22678560e-01, 4.22678560e-01, 4.22678560e-01, 4.22678560e-01,\n",
       "        4.22678560e-01, 4.22678560e-01, 4.22678560e-01, 4.22678560e-01,\n",
       "        4.22678560e-01, 4.22678560e-01],\n",
       "       [4.22678560e-01, 4.22678560e-01, 4.22678560e-01, 4.22678560e-01,\n",
       "        4.22678560e-01, 4.22678560e-01, 4.22678560e-01, 4.22678560e-01,\n",
       "        4.22678560e-01, 4.22678560e-01, 4.22678560e-01, 4.22678560e-01,\n",
       "        4.22678560e-01, 4.22678560e-01, 4.22678560e-01, 4.22678560e-01,\n",
       "        4.22678560e-01, 4.22678560e-01, 4.22678560e-01, 4.22678560e-01,\n",
       "        4.22678560e-01, 4.22678560e-01, 4.22678560e-01, 4.22678560e-01,\n",
       "        4.22678560e-01, 4.22678560e-01],\n",
       "       [4.22678560e-01, 4.22678560e-01, 4.22678560e-01, 4.22678560e-01,\n",
       "        4.22678560e-01, 4.22678560e-01, 4.22678560e-01, 4.22678560e-01,\n",
       "        4.22678560e-01, 4.22678560e-01, 4.22678560e-01, 4.22678560e-01,\n",
       "        4.22678560e-01, 4.22678560e-01, 4.22678560e-01, 4.22678560e-01,\n",
       "        4.22678560e-01, 4.22678560e-01, 4.22678560e-01, 4.22678560e-01,\n",
       "        4.22678560e-01, 4.22678560e-01, 4.22678560e-01, 4.22678560e-01,\n",
       "        4.22678560e-01, 4.22678560e-01],\n",
       "       [4.22678560e-01, 4.22678560e-01, 4.22678560e-01, 4.22678560e-01,\n",
       "        4.22678560e-01, 4.22678560e-01, 4.22678560e-01, 4.22678560e-01,\n",
       "        4.22678560e-01, 4.22678560e-01, 4.22678560e-01, 4.22678560e-01,\n",
       "        4.22678560e-01, 4.22678560e-01, 4.22678560e-01, 4.22678560e-01,\n",
       "        4.22678560e-01, 4.22678560e-01, 4.22678560e-01, 4.22678560e-01,\n",
       "        4.22678560e-01, 4.22678560e-01, 4.22678560e-01, 4.22678560e-01,\n",
       "        4.22678560e-01, 4.22678560e-01]], dtype=float32)"
      ]
     },
     "execution_count": 10,
     "metadata": {},
     "output_type": "execute_result"
    }
   ],
   "source": [
    "result[0][:, :, 0]"
   ]
  },
  {
   "cell_type": "markdown",
   "metadata": {},
   "source": [
    "Ausgabe von dem, was das NN nach dem CNN-Layer berechnet"
   ]
  },
  {
   "cell_type": "code",
   "execution_count": 11,
   "metadata": {},
   "outputs": [
    {
     "data": {
      "image/png": "[encoded data removed]",
      "text/plain": [
       "<Figure size 640x480 with 1 Axes>"
      ]
     },
     "metadata": {},
     "output_type": "display_data"
    }
   ],
   "source": [
    "plt.imshow(result[0][:, :, 6])\n",
    "plt.show()"
   ]
  }
 ],
 "metadata": {
  "kernelspec": {
   "display_name": "ml",
   "language": "python",
   "name": "python3"
  },
  "language_info": {
   "codemirror_mode": {
    "name": "ipython",
    "version": 3
   },
   "file_extension": ".py",
   "mimetype": "text/x-python",
   "name": "python",
   "nbconvert_exporter": "python",
   "pygments_lexer": "ipython3",
   "version": "3.11.13"
  }
 },
 "nbformat": 4,
 "nbformat_minor": 2
}
